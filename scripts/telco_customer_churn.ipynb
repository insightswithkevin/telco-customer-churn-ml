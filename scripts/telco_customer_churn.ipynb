{
 "cells": [
  {
   "cell_type": "markdown",
   "id": "b9d45f35-6234-40a5-be46-b6267e9c19de",
   "metadata": {},
   "source": [
    "# Project: Reducing Customer Churn at Telco\n",
    "\n",
    "## Data-Driven Approach to Reducing Customer Attrition\n",
    "\n",
    "### Motivation & Personal Interest\n",
    "\n",
    "As an aspiring Data Scientist, I’m passionate about tackling real-world business problems where data analysis can drive measurable impact. The Telco Customer Churn dataset presents a perfect opportunity to apply my skills in machine learning and interpretable statistics while addressing a critical industry challenge: Why do customers leave?\n",
    "\n",
    "What excites me about this project:\n",
    "\n",
    "- Complexity: The dataset includes demographic, contractual, and service-related factors—ideal for isolating key drivers of churn\n",
    "\n",
    "- Business Relevance: Customer attrition costs telecom companies billions annually\n",
    "\n",
    "- Skill Development: This project combines EDA, predictive modeling, and actionable insights\n",
    "\n",
    "### Goals & Methodology\n",
    "\n",
    "Using Python, I analyze the data and create visuals to answer the following questions:\n",
    "\n",
    "- **Question 1: Which customer segments churn most—and why?**\n",
    "    - Approach: Explorative data analysis to visualize relationships between **`InternetService`**, **`MonthlyCharges`** and **`Churn`**\n",
    "    - Statistics: Logistic regression (**`statsmodels`**) to quantify impact\n",
    "- **Question 2: Can I build a simple yet effective churn prediction model?**\n",
    "    - Approach: Train a Random Forest (**`scikit-learn`**) using interpretable features (e.g., **`Contract`**, **`tenure`**)\n",
    "    - Business Value: Such a model could help telecoms proactively retain at-risk customers\n",
    "- **Question 3: Do add-on services (e.g., Tech Support) actually reduce churn?**\n",
    "    - Approach: Compare churn rates between customers with/without services, stratified by contract type\n",
    "\n",
    " ### Findings\n",
    "\n",
    "- **Question 1: Which customer segments churn most—and why?**\n",
    "    - dffd\n",
    "\n",
    " ### Next steps 🏃\n",
    "\n",
    "- Explore the full code and my other projects on GitHub.\n",
    "- Connect with me on LinkedIn to discuss churn strategies!"
   ]
  },
  {
   "cell_type": "markdown",
   "id": "3940074d-aa52-4747-8cfd-16f16a4c0e30",
   "metadata": {},
   "source": [
    "### Loading Packages and Initial Settings\n",
    "\n",
    "In this section, all relevant Python packages are imported and basic settings are defined. These include libraries for data handling (`pandas`, `numpy`), visualization (`matplotlib`, `seaborn`), statistical modeling (`statsmodels`, `scipy`), and machine learning utilities (`sklearn`). Additionally, the random seed is set for reproducibility of results."
   ]
  },
  {
   "cell_type": "code",
   "execution_count": 3,
   "id": "6f8af58a-bbf6-4d62-88d4-7419bc91d7e6",
   "metadata": {
    "execution": {
     "iopub.execute_input": "2025-08-07T07:46:13.243437Z",
     "iopub.status.busy": "2025-08-07T07:46:13.238599Z",
     "iopub.status.idle": "2025-08-07T07:46:13.262167Z",
     "shell.execute_reply": "2025-08-07T07:46:13.259372Z",
     "shell.execute_reply.started": "2025-08-07T07:46:13.243437Z"
    }
   },
   "outputs": [],
   "source": [
    "import os\n",
    "from kaggle.api.kaggle_api_extended import KaggleApi\n",
    "from pathlib import Path\n",
    "import pandas as pd\n",
    "import numpy as np\n",
    "import seaborn as sns\n",
    "import matplotlib.pyplot as plt\n",
    "from statsmodels.formula.api import logit\n",
    "from statsmodels.stats.proportion import proportions_ztest\n",
    "import pingouin\n",
    "from sklearn.model_selection import train_test_split\n",
    "from sklearn.model_selection import GridSearchCV\n",
    "from sklearn.tree import DecisionTreeClassifier\n",
    "from sklearn.ensemble import RandomForestClassifier\n",
    "from sklearn.ensemble import GradientBoostingClassifier\n",
    "from sklearn.ensemble import AdaBoostClassifier\n",
    "from sklearn.metrics import recall_score\n",
    "from sklearn.metrics import classification_report\n",
    "from imblearn.over_sampling import SMOTE\n",
    "\n",
    "sns.set_style(\"darkgrid\")\n",
    "SEED = 9"
   ]
  },
  {
   "cell_type": "markdown",
   "id": "1a552b47-4359-4b70-9412-4f4d9ea2b242",
   "metadata": {},
   "source": [
    "### Data Downloading and Importing\n",
    "\n",
    "In this step, the Telco Customer Churn dataset is downloaded directly from Kaggle using the Kaggle API. The data is saved in a local directory and automatically unzipped for further use.  \n",
    "Note: Authentication via the Kaggle API is required beforehand."
   ]
  },
  {
   "cell_type": "code",
   "execution_count": 8,
   "id": "52c763a0-52c0-4640-b316-a4663f2b0070",
   "metadata": {
    "execution": {
     "iopub.execute_input": "2025-08-07T07:50:12.811285Z",
     "iopub.status.busy": "2025-08-07T07:50:12.811285Z",
     "iopub.status.idle": "2025-08-07T07:50:12.831466Z",
     "shell.execute_reply": "2025-08-07T07:50:12.827466Z",
     "shell.execute_reply.started": "2025-08-07T07:50:12.811285Z"
    }
   },
   "outputs": [
    {
     "name": "stdout",
     "output_type": "stream",
     "text": [
      "Projekt-Root: C:\\Users\\kevin\\OneDrive\\Documents\\Data Science\\Github\\Repositories\\telco-customer-churn-ml\n",
      "Data-Folder: C:\\Users\\kevin\\OneDrive\\Documents\\Data Science\\Github\\Repositories\\telco-customer-churn-ml\\data\n"
     ]
    }
   ],
   "source": [
    "cwd = Path.cwd()\n",
    "\n",
    "project_root = cwd.parent\n",
    "\n",
    "target_dir = project_root / \"data\"\n",
    "\n",
    "api = KaggleApi()\n",
    "api.authenticate()\n",
    "\n",
    "dataset = \"blastchar/telco-customer-churn\"\n",
    "api.dataset_download_files(dataset, path=target_dir, unzip=True)\n",
    "\n",
    "print(f\" Dataset downloaded to: {target_dir.resolve()}\")\n",
    "\n",
    "data_path = os.path.join(project_root, \"data\", \"WA_Fn-UseC_-Telco-Customer-Churn.csv\")\n",
    "\n",
    "df_telco = pd.read_csv(data_path)"
   ]
  },
  {
   "cell_type": "markdown",
   "id": "af40606f-3d19-475b-b120-cad673001c3c",
   "metadata": {},
   "source": [
    "### Identifying High-Risk Churn Segments: Key Drivers and Patterns\n",
    "\n",
    "This analysis investigates which customer segments are most prone to churning and examines the underlying reasons behind their attrition. The study focuses on four key hypothesized drivers of customer churn, which will be explored through exploratory data analysis and logistic regression modeling. First, we hypothesize that customers with shorter duration of contract duration (`tenure`) are more likely to churn (`Churn`) due to weaker customer-company bonding effects. Second, we expect to find that higher monthly charges (`MonthlyCharges`) lead to increased churn as customers become more price-sensitive. Third, we anticipate that fiber optic internet service subscribers (`InternetService`) will demonstrate higher churn rates compared to DSL users, potentially due to unmet higher expectations regarding service quality. Finally, we predict that customers with month-to-month contracts will churn more frequently than those with longer-term contracts (`Contract`), as the absence of contractual commitments reduces switching costs. These hypotheses will guide our investigation into the primary factors influencing customer retention in the telecommunications sector."
   ]
  },
  {
   "cell_type": "markdown",
   "id": "dc1ff5b1-df04-4fba-9d4b-aa2eab7e4a73",
   "metadata": {},
   "source": [
    "#### Visualizing Churn Patterns\n",
    "These plots compare tenure and monthly charges between churned vs. retained customers. Boxplots show distribution spreads, while pointplots highlight mean differences.\n",
    "\n",
    "Results:\n",
    "- Contract duration (tenure): A boxplot revealed that customers who did not churn had significantly longer contract tenures (median above 35 months), whereas churners typically left within the first 20 months. → Customer loyalty increases over time.\n",
    "- Monthly charges (MonthlyCharges): Customers who churned paid considerably more on average ($74/month) than those who stayed ($61–62/month). → Higher costs appear to be a key driver of churn."
   ]
  },
  {
   "cell_type": "code",
   "execution_count": null,
   "id": "dcafd5bd-4b34-41f3-a003-63d0bf261b5e",
   "metadata": {},
   "outputs": [],
   "source": [
    "print(df_telco.info())\n",
    "\n",
    "fig, axes = plt.subplots(nrows = 2, ncols = 2, figsize = (14, 10))\n",
    "fig.suptitle('Churn Analysis: Tenure vs Monthly Charges', y = 1.02, fontsize = 14)\n",
    "\n",
    "sns.boxplot(x = 'Churn', y = 'tenure', data = df_telco, ax = axes[0,0])\n",
    "axes[0,0].set_title('Tenure Distribution by Churn Status')\n",
    "axes[0,0].set_xlabel('Has Churned')\n",
    "axes[0,0].set_ylabel('Tenure (months)')\n",
    "\n",
    "sns.pointplot(x ='Churn', y = 'tenure', data = df_telco, join = False, ax = axes[1,0])\n",
    "axes[1,0].set_xlabel('Has Churned')\n",
    "axes[1,0].set_ylabel('Tenure (months)')\n",
    "\n",
    "sns.boxplot(x = 'Churn', y = 'MonthlyCharges', data = df_telco, ax = axes[0,1])\n",
    "axes[0,1].set_title('Monthly Charges Distribution by Churn Status')\n",
    "axes[0,1].set_xlabel('Has Churned')\n",
    "axes[0,1].set_ylabel('Monthly Costs ($)')\n",
    "\n",
    "sns.pointplot(x = 'Churn', y = 'MonthlyCharges', data = df_telco, join = False, ax = axes[1,1])\n",
    "axes[1,1].set_xlabel('Has Churned')\n",
    "axes[1,1].set_ylabel('Monthly Costs ($)')\n",
    "\n",
    "plt.tight_layout()\n",
    "plt.show()"
   ]
  },
  {
   "cell_type": "markdown",
   "id": "3fc0c9e8-8a05-44a8-acf7-9333e6c48d57",
   "metadata": {
    "execution": {
     "iopub.execute_input": "2025-08-07T08:57:16.018579Z",
     "iopub.status.busy": "2025-08-07T08:57:16.014560Z",
     "iopub.status.idle": "2025-08-07T08:57:16.034220Z",
     "shell.execute_reply": "2025-08-07T08:57:16.034220Z",
     "shell.execute_reply.started": "2025-08-07T08:57:16.018579Z"
    }
   },
   "source": [
    "#### Hypotheses Testing: Churn Drivers Analysis\n",
    "\n",
    "**Research Focus**: \n",
    "Statistically validate three key hypotheses about churn drivers:  \n",
    "1. **Age**: Senior citizens have different churn rates  \n",
    "2. **Internet Service**: Fiber optic/DSL services show different churn patterns  \n",
    "3. **Contract Type**: Month-to-month vs longer contracts affect churn differently  \n",
    "\n",
    "**Statistical Methods**:  \n",
    "- Z-test for proportions (age groups)  \n",
    "- Chi-square tests (categorical variables)\n",
    "\n",
    "**Results**:\n",
    "- There is a statistically significant difference in churn rates between senior and non-senior customers.\n",
    "    - The variable SeniorCitizen is associated with churn behavior – the proportion of churn differs between the two age groups.\n",
    "- The test indicates a meaningful statistical association between the type of internet service and churn.\n",
    "    - Interpretation: The churn behavior differs significantly across service types, suggesting that internet service category plays a role in how churn is distributed.\n",
    "- The analysis reveals a significant relationship between contract type and customer churn.\n",
    "    - Churn is not evenly distributed across different contract models – the distribution of churn status varies by contract type."
   ]
  },
  {
   "cell_type": "code",
   "execution_count": 10,
   "id": "102ee1ce-090c-4746-848f-99a3d8c7a5d9",
   "metadata": {
    "execution": {
     "iopub.execute_input": "2025-08-07T09:29:46.882792Z",
     "iopub.status.busy": "2025-08-07T09:29:46.882792Z",
     "iopub.status.idle": "2025-08-07T09:29:46.974626Z",
     "shell.execute_reply": "2025-08-07T09:29:46.972595Z",
     "shell.execute_reply.started": "2025-08-07T09:29:46.882792Z"
    }
   },
   "outputs": [
    {
     "ename": "NameError",
     "evalue": "name 'df_telco' is not defined",
     "output_type": "error",
     "traceback": [
      "\u001b[1;31m---------------------------------------------------------------------------\u001b[0m",
      "\u001b[1;31mNameError\u001b[0m                                 Traceback (most recent call last)",
      "Cell \u001b[1;32mIn[10], line 1\u001b[0m\n\u001b[1;32m----> 1\u001b[0m df_telco\u001b[38;5;241m.\u001b[39mgroupby(\u001b[38;5;124m\"\u001b[39m\u001b[38;5;124mSeniorCitizen\u001b[39m\u001b[38;5;124m\"\u001b[39m)[\u001b[38;5;124m'\u001b[39m\u001b[38;5;124mChurn\u001b[39m\u001b[38;5;124m'\u001b[39m]\u001b[38;5;241m.\u001b[39mvalue_counts()\n\u001b[0;32m      3\u001b[0m n_churned_senior \u001b[38;5;241m=\u001b[39m np\u001b[38;5;241m.\u001b[39marray([\u001b[38;5;241m1393\u001b[39m, \u001b[38;5;241m476\u001b[39m])\n\u001b[0;32m      4\u001b[0m n_rows_senior \u001b[38;5;241m=\u001b[39m np\u001b[38;5;241m.\u001b[39marray([\u001b[38;5;241m1393\u001b[39m \u001b[38;5;241m+\u001b[39m \u001b[38;5;241m4508\u001b[39m, \u001b[38;5;241m476\u001b[39m \u001b[38;5;241m+\u001b[39m \u001b[38;5;241m666\u001b[39m])\n",
      "\u001b[1;31mNameError\u001b[0m: name 'df_telco' is not defined"
     ]
    }
   ],
   "source": [
    "df_telco.groupby(\"SeniorCitizen\")['Churn'].value_counts()\n",
    "\n",
    "n_churned_senior = np.array([1393, 476])\n",
    "n_rows_senior = np.array([1393 + 4508, 476 + 666])\n",
    "z_score_senior, p_value_senior = proportions_ztest(count = n_churned_senior, nobs = n_rows_senior, alternative = \"two-sided\")\n",
    "print(z_score_senior, p_value_senior)\n",
    "\n",
    "expected_internet, observed_internet, stats_internet = pingouin.chi2_independence(data = df_telco, x = \"InternetService\", y = \"Churn\")\n",
    "print(stats_internet)\n",
    "\n",
    "expected_contract, observed_contract, stats_contract = pingouin.chi2_independence(data = df_telco, x = \"Contract\", y = \"Churn\")\n",
    "print(stats_contract)"
   ]
  },
  {
   "cell_type": "markdown",
   "id": "f1287a13-d89a-4c8a-be6e-e0de88846018",
   "metadata": {},
   "source": [
    "#### Logistic Regression: Predicting Churn Probability\n",
    "\n",
    "**Model Purpose:**  \n",
    "Quantify how different factors influence churn likelihood using logistic regression. The model predicts the probability of a customer churning based on:\n",
    "- Monthly charges\n",
    "- Tenure (duration as customer)\n",
    "- Age (SeniorCitizen status)\n",
    "- Internet service type\n",
    "- Contract type\n",
    "\n",
    "**Key Outputs:**\n",
    "- Coefficients: Direction and magnitude of each factor's impact\n",
    "- Odds Ratios: How much each factor increases/decreases churn risk\n",
    "- Statistical Significance: p-values indicating reliable effects\n",
    "\n",
    "**Results**:\n",
    "- Internet type:\n",
    "  - Customers with Fiber Optic internet are significantly more likely to churn than those with DSL (+0.98)\n",
    "    - In contrast, customers with no internet service are less likely to churn (–0.88)\n",
    "    - → This suggests that high-performance internet (likely more expensive) may come with higher expectations — and greater risk of dissatisfaction.\n",
    "- Contract type:\n",
    "  - A 1-year contract significantly reduces churn risk (–0.83)\n",
    "  - A 2-year contract has an even stronger effect (–1.66)\n",
    "  - → This confirms earlier insights and provides a quantitative foundation for loyalty-focused strategies.\n",
    "- Tenure (contract duration): Each additional month with the company reduces the likelihood of churn (–0.033 per month), underlining the value of long-term customer relationships.\n",
    "- Monthly charges: Although initially suspected to drive churn, monthly cost shows no significant effect in the full model (p = 0.122). This indicates that pricing effects may be explained by other variables like contract type or internet service.\n",
    "- Age: Surprisingly, older customers have a higher likelihood of churn (+0.39). This could be due to tech-related frustration, lack of perceived value, or pricing concerns — and suggests a need for targeted support strategies."
   ]
  },
  {
   "cell_type": "code",
   "execution_count": 11,
   "id": "10b0d288-6057-467b-88bc-08d2dcad7483",
   "metadata": {
    "execution": {
     "iopub.execute_input": "2025-08-07T09:31:35.882346Z",
     "iopub.status.busy": "2025-08-07T09:31:35.882346Z",
     "iopub.status.idle": "2025-08-07T09:31:35.919026Z",
     "shell.execute_reply": "2025-08-07T09:31:35.917409Z",
     "shell.execute_reply.started": "2025-08-07T09:31:35.882346Z"
    }
   },
   "outputs": [
    {
     "ename": "NameError",
     "evalue": "name 'df_telco' is not defined",
     "output_type": "error",
     "traceback": [
      "\u001b[1;31m---------------------------------------------------------------------------\u001b[0m",
      "\u001b[1;31mNameError\u001b[0m                                 Traceback (most recent call last)",
      "Cell \u001b[1;32mIn[11], line 1\u001b[0m\n\u001b[1;32m----> 1\u001b[0m df_telco\u001b[38;5;241m.\u001b[39mloc[df_telco[\u001b[38;5;124m\"\u001b[39m\u001b[38;5;124mChurn\u001b[39m\u001b[38;5;124m\"\u001b[39m] \u001b[38;5;241m==\u001b[39m \u001b[38;5;124m\"\u001b[39m\u001b[38;5;124mYes\u001b[39m\u001b[38;5;124m\"\u001b[39m, \u001b[38;5;124m\"\u001b[39m\u001b[38;5;124mChurn\u001b[39m\u001b[38;5;124m\"\u001b[39m] \u001b[38;5;241m=\u001b[39m \u001b[38;5;241m1\u001b[39m\n\u001b[0;32m      2\u001b[0m df_telco\u001b[38;5;241m.\u001b[39mloc[df_telco[\u001b[38;5;124m\"\u001b[39m\u001b[38;5;124mChurn\u001b[39m\u001b[38;5;124m\"\u001b[39m] \u001b[38;5;241m==\u001b[39m \u001b[38;5;124m\"\u001b[39m\u001b[38;5;124mNo\u001b[39m\u001b[38;5;124m\"\u001b[39m, \u001b[38;5;124m\"\u001b[39m\u001b[38;5;124mChurn\u001b[39m\u001b[38;5;124m\"\u001b[39m] \u001b[38;5;241m=\u001b[39m \u001b[38;5;241m0\u001b[39m\n\u001b[0;32m      4\u001b[0m df_telco[\u001b[38;5;124m'\u001b[39m\u001b[38;5;124mChurn\u001b[39m\u001b[38;5;124m'\u001b[39m] \u001b[38;5;241m=\u001b[39m df_telco[\u001b[38;5;124m'\u001b[39m\u001b[38;5;124mChurn\u001b[39m\u001b[38;5;124m'\u001b[39m]\u001b[38;5;241m.\u001b[39mastype(\u001b[38;5;124m\"\u001b[39m\u001b[38;5;124mint\u001b[39m\u001b[38;5;124m\"\u001b[39m)\n",
      "\u001b[1;31mNameError\u001b[0m: name 'df_telco' is not defined"
     ]
    }
   ],
   "source": [
    "df_telco.loc[df_telco[\"Churn\"] == \"Yes\", \"Churn\"] = 1\n",
    "df_telco.loc[df_telco[\"Churn\"] == \"No\", \"Churn\"] = 0\n",
    "\n",
    "df_telco['Churn'] = df_telco['Churn'].astype(\"int\")\n",
    "\n",
    "logit_model_churn = logit(\"Churn ~ MonthlyCharges + tenure + SeniorCitizen + InternetService + Contract\",\n",
    "                         data = df_telco).fit()\n",
    "\n",
    "print(logit_model_churn.summary())\n",
    "\n",
    "\n",
    "odds_ratios = np.exp(logit_model_churn.params)\n",
    "\n",
    "results_df = pd.DataFrame({\n",
    "    'Variable': odds_ratios.index,\n",
    "    'Odds Ratio': odds_ratios.values,\n",
    "    'P-value': logit_model_churn.pvalues\n",
    "})\n",
    "\n",
    "print(results_df)"
   ]
  },
  {
   "cell_type": "markdown",
   "id": "002a190b-6aa7-49c8-b073-f1f37549134d",
   "metadata": {},
   "source": [
    "### Building an Effective Churn Prediction Model?\n",
    "\n",
    "The next section examines whether we can develop both simple and accurate churn prediction models by leveraging machine learning techniques. While traditional logistic regression offers valuable interpretability, machine learning approaches provide distinct advantages for this predictive modeling task. Specifically, ML algorithms can identify and model complex non-linear patterns in the data, account for intricate interactions between multiple variables, and ultimately deliver superior predictive performance compared to conventional statistical methods. For this analysis, we implement a **Random Forest classifier** - an ensemble method that combines multiple decision trees to reduce overfitting while maintaining robust performance across diverse data types. The model's ability to generate feature importance scores adds valuable interpretability to its predictions. Our optimization strategy focuses on three key aspects: First, we conduct comprehensive **hyperparameter tuning** to identify the optimal model configuration. Second, we **prioritize recall** as our primary evaluation metric, aiming to correctly identify at least 70% of actual churn cases, since failing to detect potential churners (false negatives) carries greater business risk than false alarms. This recall-focused approach ensures we minimize missed opportunities for customer retention interventions."
   ]
  },
  {
   "cell_type": "markdown",
   "id": "f41b8cef-c192-47f4-b1a5-84b97e64e1e0",
   "metadata": {},
   "source": [
    "#### Data Preprocessing for Machine Learning\n",
    "\n",
    "**Objective:** Convert all categorical variables to numerical representations and handle missing values to prepare data for machine learning algorithms.\n",
    "\n",
    "**Key Steps:**\n",
    "1. Binary encoding for Yes/No features  \n",
    "2. Ordinal encoding for multi-category features  \n",
    "3. Missing value handling for TotalCharges  \n",
    "4. Type conversion for all encoded features  "
   ]
  },
  {
   "cell_type": "code",
   "execution_count": 12,
   "id": "460b3c29-b96b-457a-b609-8910f8cc3922",
   "metadata": {
    "execution": {
     "iopub.execute_input": "2025-08-07T09:39:23.141937Z",
     "iopub.status.busy": "2025-08-07T09:39:23.141937Z",
     "iopub.status.idle": "2025-08-07T09:39:23.202843Z",
     "shell.execute_reply": "2025-08-07T09:39:23.200831Z",
     "shell.execute_reply.started": "2025-08-07T09:39:23.141937Z"
    }
   },
   "outputs": [
    {
     "ename": "NameError",
     "evalue": "name 'df_telco' is not defined",
     "output_type": "error",
     "traceback": [
      "\u001b[1;31m---------------------------------------------------------------------------\u001b[0m",
      "\u001b[1;31mNameError\u001b[0m                                 Traceback (most recent call last)",
      "Cell \u001b[1;32mIn[12], line 1\u001b[0m\n\u001b[1;32m----> 1\u001b[0m df_telco_num \u001b[38;5;241m=\u001b[39m df_telco\n\u001b[0;32m      3\u001b[0m df_telco_num\u001b[38;5;241m.\u001b[39mloc[df_telco_num[\u001b[38;5;124m\"\u001b[39m\u001b[38;5;124mgender\u001b[39m\u001b[38;5;124m\"\u001b[39m] \u001b[38;5;241m==\u001b[39m \u001b[38;5;124m\"\u001b[39m\u001b[38;5;124mMale\u001b[39m\u001b[38;5;124m\"\u001b[39m, \u001b[38;5;124m\"\u001b[39m\u001b[38;5;124mgender\u001b[39m\u001b[38;5;124m\"\u001b[39m] \u001b[38;5;241m=\u001b[39m \u001b[38;5;241m1\u001b[39m\n\u001b[0;32m      4\u001b[0m df_telco_num\u001b[38;5;241m.\u001b[39mloc[df_telco_num[\u001b[38;5;124m\"\u001b[39m\u001b[38;5;124mgender\u001b[39m\u001b[38;5;124m\"\u001b[39m] \u001b[38;5;241m==\u001b[39m \u001b[38;5;124m\"\u001b[39m\u001b[38;5;124mFemale\u001b[39m\u001b[38;5;124m\"\u001b[39m, \u001b[38;5;124m\"\u001b[39m\u001b[38;5;124mgender\u001b[39m\u001b[38;5;124m\"\u001b[39m] \u001b[38;5;241m=\u001b[39m \u001b[38;5;241m0\u001b[39m\n",
      "\u001b[1;31mNameError\u001b[0m: name 'df_telco' is not defined"
     ]
    }
   ],
   "source": [
    "df_telco_num = df_telco\n",
    "\n",
    "df_telco_num.loc[df_telco_num[\"gender\"] == \"Male\", \"gender\"] = 1\n",
    "df_telco_num.loc[df_telco_num[\"gender\"] == \"Female\", \"gender\"] = 0\n",
    "\n",
    "yes_no_cols = ['Partner', 'Dependents', 'PhoneService', 'PaperlessBilling']\n",
    "\n",
    "df_telco_num[yes_no_cols] = df_telco_num[yes_no_cols].replace({'Yes': 1, 'No': 0})\n",
    "\n",
    "yes_no_other_cols = ['MultipleLines', 'OnlineSecurity', 'OnlineBackup', 'DeviceProtection', 'TechSupport', 'StreamingTV', 'StreamingMovies']\n",
    "\n",
    "for col in yes_no_other_cols:\n",
    "    third_value = list(set(df_telco_num[col].unique()) - {'Yes', 'No'})[0]\n",
    "    df_telco_num[col] = df_telco_num[col].replace({\n",
    "        'Yes': 1,\n",
    "        'No': 0,\n",
    "        third_value: 2\n",
    "    })\n",
    "\n",
    "df_telco_num.loc[df_telco_num[\"InternetService\"] == \"Fiber optic\", \"InternetService\"] = 3\n",
    "df_telco_num.loc[df_telco_num[\"InternetService\"] == \"DSL\", \"InternetService\"] = 2\n",
    "df_telco_num.loc[df_telco_num[\"InternetService\"] == \"No\", \"InternetService\"] = 1\n",
    "\n",
    "df_telco_num.loc[df_telco_num[\"Contract\"] == \"Month-to-month\", \"Contract\"] = 1\n",
    "df_telco_num.loc[df_telco_num[\"Contract\"] == \"Two year\", \"Contract\"] = 2\n",
    "df_telco_num.loc[df_telco_num[\"Contract\"] == \"One year\", \"Contract\"] = 3\n",
    "\n",
    "df_telco_num.loc[df_telco_num[\"PaymentMethod\"] == \"Electronic check\", \"PaymentMethod\"] = 1\n",
    "df_telco_num.loc[df_telco_num[\"PaymentMethod\"] == \"Mailed check\", \"PaymentMethod\"] = 2\n",
    "df_telco_num.loc[df_telco_num[\"PaymentMethod\"] == \"Bank transfer (automatic)\", \"PaymentMethod\"] = 3\n",
    "df_telco_num.loc[df_telco_num[\"PaymentMethod\"] == \"Credit card (automatic)\", \"PaymentMethod\"] = 4\n",
    "\n",
    "df_telco_num[\"gender\"] = df_telco_num[\"gender\"].astype(int)\n",
    "df_telco_num[\"InternetService\"] = df_telco_num[\"InternetService\"].astype(int)\n",
    "df_telco_num[\"Contract\"] = df_telco_num[\"Contract\"].astype(int)\n",
    "df_telco_num[\"PaymentMethod\"] = df_telco_num[\"PaymentMethod\"].astype(int)\n",
    "\n",
    "df_telco_num['TotalCharges'] = df_telco_num['TotalCharges'].replace(' ', np.nan)\n",
    "df_telco_num['TotalCharges'] = df_telco_num['TotalCharges'].astype(float)\n",
    "df_telco_num['TotalCharges'] = df_telco_num['TotalCharges'].fillna(df_telco_num['TotalCharges'].mean())"
   ]
  },
  {
   "cell_type": "markdown",
   "id": "62e3024d-f8d6-4886-89b7-13fa2d8c9f7e",
   "metadata": {},
   "source": [
    "#### Data Splitting for Model Development\n",
    "\n",
    "**Purpose:**  \n",
    "Split the preprocessed data into training and test sets to:  \n",
    "- Train models on one subset (training)  \n",
    "- Evaluate performance on unseen data (test)  \n",
    "- Prevent data leakage and overfitting  \n",
    "\n",
    "**Key Parameters:**  \n",
    "- Test size: 20% of total data  \n",
    "- Random state: Fixed for reproducibility (`SEED = 9`)  \n",
    "- Stratification: Preserves original churn distribution in splits  "
   ]
  },
  {
   "cell_type": "code",
   "execution_count": null,
   "id": "5bfbd34a-8f29-4309-a597-a12fcae1448c",
   "metadata": {},
   "outputs": [],
   "source": [
    "X = df_telco_num.drop(columns = [\"customerID\", \"Churn\"])\n",
    "y = df_telco_num[\"Churn\"]\n",
    "\n",
    "X_train, X_test, y_train, y_test = train_test_split(X, y, test_size = 0.2, random_state = SEED)"
   ]
  },
  {
   "cell_type": "markdown",
   "id": "813d10b8-c6fd-4bfb-bcdc-80e4d937ba00",
   "metadata": {},
   "source": [
    "#### Random Forest Model Optimization\n",
    "\n",
    "**Objective**: Find the optimal Random Forest configuration through hyperparameter tuning, focusing on maximizing recall to best identify potential churners.\n",
    "\n",
    "**Tuning Strategy:**\n",
    "- **10-fold cross-validation** for robust performance estimation  \n",
    "- **Recall-focused** (prioritize identifying true churners)  \n",
    "- **Key Parameters:**  \n",
    "  - `n_estimators`: Number of trees (100-300)  \n",
    "  - `max_depth`: Tree complexity (shallow to deep)  \n",
    "  - `min_samples_split`: Controls overfitting  \n",
    "  - `class_weight`: Handles imbalanced data  "
   ]
  },
  {
   "cell_type": "code",
   "execution_count": 13,
   "id": "e2b4c9f4-849d-49fc-a15a-5bbad026865d",
   "metadata": {
    "execution": {
     "iopub.execute_input": "2025-08-07T09:45:38.925195Z",
     "iopub.status.busy": "2025-08-07T09:45:38.925195Z",
     "iopub.status.idle": "2025-08-07T09:45:38.957591Z",
     "shell.execute_reply": "2025-08-07T09:45:38.956055Z",
     "shell.execute_reply.started": "2025-08-07T09:45:38.925195Z"
    }
   },
   "outputs": [
    {
     "ename": "NameError",
     "evalue": "name 'X_train' is not defined",
     "output_type": "error",
     "traceback": [
      "\u001b[1;31m---------------------------------------------------------------------------\u001b[0m",
      "\u001b[1;31mNameError\u001b[0m                                 Traceback (most recent call last)",
      "Cell \u001b[1;32mIn[13], line 18\u001b[0m\n\u001b[0;32m      4\u001b[0m params_rf \u001b[38;5;241m=\u001b[39m {\n\u001b[0;32m      5\u001b[0m                 \u001b[38;5;124m'\u001b[39m\u001b[38;5;124mn_estimators\u001b[39m\u001b[38;5;124m'\u001b[39m: [\u001b[38;5;241m100\u001b[39m, \u001b[38;5;241m200\u001b[39m, \u001b[38;5;241m300\u001b[39m],\n\u001b[0;32m      6\u001b[0m                 \u001b[38;5;124m'\u001b[39m\u001b[38;5;124mmax_depth\u001b[39m\u001b[38;5;124m'\u001b[39m: [\u001b[38;5;28;01mNone\u001b[39;00m, \u001b[38;5;241m10\u001b[39m, \u001b[38;5;241m20\u001b[39m],\n\u001b[0;32m      7\u001b[0m                 \u001b[38;5;124m'\u001b[39m\u001b[38;5;124mmin_samples_split\u001b[39m\u001b[38;5;124m'\u001b[39m: [\u001b[38;5;241m2\u001b[39m, \u001b[38;5;241m5\u001b[39m, \u001b[38;5;241m10\u001b[39m],\n\u001b[0;32m      8\u001b[0m                 \u001b[38;5;124m'\u001b[39m\u001b[38;5;124mclass_weight\u001b[39m\u001b[38;5;124m'\u001b[39m: [\u001b[38;5;28;01mNone\u001b[39;00m, \u001b[38;5;124m'\u001b[39m\u001b[38;5;124mbalanced\u001b[39m\u001b[38;5;124m'\u001b[39m]\n\u001b[0;32m      9\u001b[0m }\n\u001b[0;32m     11\u001b[0m grid_rf \u001b[38;5;241m=\u001b[39m GridSearchCV(estimator \u001b[38;5;241m=\u001b[39m rf,\n\u001b[0;32m     12\u001b[0m                       param_grid \u001b[38;5;241m=\u001b[39m params_rf,\n\u001b[0;32m     13\u001b[0m                       cv \u001b[38;5;241m=\u001b[39m \u001b[38;5;241m10\u001b[39m,\n\u001b[0;32m     14\u001b[0m                       scoring \u001b[38;5;241m=\u001b[39m \u001b[38;5;124m\"\u001b[39m\u001b[38;5;124mrecall\u001b[39m\u001b[38;5;124m\"\u001b[39m,\n\u001b[0;32m     15\u001b[0m                       verbose \u001b[38;5;241m=\u001b[39m \u001b[38;5;241m1\u001b[39m,\n\u001b[0;32m     16\u001b[0m                       n_jobs \u001b[38;5;241m=\u001b[39m \u001b[38;5;241m-\u001b[39m\u001b[38;5;241m1\u001b[39m)\n\u001b[1;32m---> 18\u001b[0m grid_rf\u001b[38;5;241m.\u001b[39mfit(X_train, y_train)\n\u001b[0;32m     20\u001b[0m \u001b[38;5;28mprint\u001b[39m(grid_rf\u001b[38;5;241m.\u001b[39mbest_params_)\n",
      "\u001b[1;31mNameError\u001b[0m: name 'X_train' is not defined"
     ]
    }
   ],
   "source": [
    "rf = RandomForestClassifier(random_state = SEED)\n",
    "rf.get_params()\n",
    "\n",
    "params_rf = {\n",
    "                'n_estimators': [100, 200, 300],\n",
    "                'max_depth': [None, 10, 20],\n",
    "                'min_samples_split': [2, 5, 10],\n",
    "                'class_weight': [None, 'balanced']\n",
    "}\n",
    "\n",
    "grid_rf = GridSearchCV(estimator = rf,\n",
    "                      param_grid = params_rf,\n",
    "                      cv = 10,\n",
    "                      scoring = \"recall\",\n",
    "                      verbose = 1,\n",
    "                      n_jobs = -1)\n",
    "\n",
    "grid_rf.fit(X_train, y_train)\n",
    "\n",
    "print(grid_rf.best_params_)"
   ]
  },
  {
   "cell_type": "markdown",
   "id": "317f6258-f717-4132-bf66-19b523b0b84d",
   "metadata": {},
   "source": [
    "#### Final Random Forest Model Evaluation\n",
    "\n",
    "**Model Configuration**:\n",
    "- n_estimators: 100 trees\n",
    "- max_depth: 10 levels\n",
    "- class_weight: Balanced (handles class imbalance)\n",
    "- min_samples_split: 10 samples required to split a node\n",
    "- random_state: `SEED` for reproducibility\n",
    "\n",
    "**Model Performance**:\n",
    "- The model achieved a recall of 0.71 for churners, surpassing our target of 0.70.\n",
    "- The Precision for churners is 0.55, which is acceptable given the high cost of false negatives in this scenario.\n",
    "- For non-churners, both metrics are strong, ensuring a stable prediction base.\n",
    "\n",
    "→ The model performs reasonably well in identifying customers who are likely to churn, while maintaining a manageable rate of false positives. It can serve as an operational tool for early intervention.\n",
    "\n",
    "**Feature Importance:**\n",
    "The key features influencing the model’s decisions were `Contract`, `Tenure`, `TotalCharges`, `MonthlyCharges`, `OnlineSecurity`, and `TechSupport`. These variables were used most frequently by the model to distinguish between churners and non-churners.\n",
    "It is important to note that high feature importance **does not imply causation**; rather, it indicates how **relevant** a feature is within the model’s context.\n",
    "Combined with results from the logistic regression and exploratory analysis, these features consistently highlight **specific risk patterns**—such as short contract duration, low usage of add-on services, and lower customer value—that can guide targeted retention efforts."
   ]
  },
  {
   "cell_type": "code",
   "execution_count": null,
   "id": "fa10dedb-78d2-45c1-bf89-a0db95cf5fed",
   "metadata": {},
   "outputs": [],
   "source": [
    "best_model_rf = RandomForestClassifier(n_estimators = 100,\n",
    "                                    max_depth = 10,\n",
    "                                    class_weight = 'balanced',\n",
    "                                    min_samples_split = 10,\n",
    "                                    random_state = SEED)\n",
    "best_model_rf.fit(X_train, y_train)\n",
    "y_pred_rf = best_model_rf.predict(X_test)\n",
    "\n",
    "best_recall_rf = recall_score(y_test, y_pred_rf)\n",
    "\n",
    "print(best_recall_rf)\n",
    "\n",
    "print(classification_report(y_test, y_pred_rf, target_names=[\"No Churn\", \"Churn\"]))\n",
    "\n",
    "\n",
    "importances_rf = pd.Series(best_model_rf.feature_importances_, index = X.columns)\n",
    "\n",
    "sorted_importances_rf = importances_rf.sort_values(ascending = False)\n",
    "\n",
    "sorted_importances_rf.plot(kind = 'barh', color = 'lightgreen'); plt.show()"
   ]
  },
  {
   "cell_type": "markdown",
   "id": "05257d65-27a7-47ec-853a-c6dfcfe6bde0",
   "metadata": {},
   "source": [
    "###  Analyzing Add-On Service Impact on Churn\n",
    "\n",
    "This investigation examines whether value-added services like Tech Support, Online Security, Online Backup, and Device Protection effectively reduce customer churn in telecommunications. We hypothesize that customers who subscribe to these premium services demonstrate lower attrition rates due to three key mechanisms: (1) enhanced perceived value of their service package, making them less likely to switch providers; (2) increased switching costs as these add-ons create more complex service integrations; and (3) improved overall customer experience through better support and protection features. The analysis specifically focuses on measuring the churn impact of four critical services: Technical Support, which provides troubleshooting assistance; Online Security, offering protection against digital threats; Online Backup for data preservation; and Device Protection covering hardware maintenance. By comparing churn rates between subscribers and non-subscribers of each service, we aim to quantify their true retention value and identify which offerings provide the strongest protective effect against customer attrition."
   ]
  },
  {
   "cell_type": "markdown",
   "id": "a8a72ea4-905d-4bab-9661-093c55ccdfb3",
   "metadata": {},
   "source": [
    "#### Hypothesis Testing: Impact of Value-Added Services on Churn\n",
    "\n",
    "**Objective**: Statistically validate whether subscribing to value-added services significantly reduces churn probability.\n",
    "\n",
    "**Methodology:**  \n",
    "For each service (Tech Support, Online Security, Online Backup, Device Protection):\n",
    "1. Conduct chi-square test of independence between service subscription and churn status\n",
    "2. Compare observed vs. expected churn frequencies\n",
    "3. Report Pearson's chi-square statistic with p-values\n",
    "\n",
    "**Null Hypothesis (H₀)**: No association exists between service subscription and churn rate.\n",
    "\n",
    "**Alternative Hypothesis (H₁)**: Service subscribers have different churn rates than non-subscribers.\n",
    "\n",
    "**Results**: Initial Chi-Square tests revealed highly significant associations between churn status and all four services. In each case, the distribution of churned vs. retained customers differed meaningfully depending on whether the service was used – suggesting that service usage correlates with churn behavior."
   ]
  },
  {
   "cell_type": "code",
   "execution_count": null,
   "id": "261c8769-e6fc-4ebf-aaf8-0136b087845e",
   "metadata": {},
   "outputs": [],
   "source": [
    "services = [\"TechSupport\", \"OnlineSecurity\", \"OnlineBackup\", \"DeviceProtection\"]\n",
    "\n",
    "for service in services:\n",
    "    expected, observed, stats = pingouin.chi2_independence(data = df_telco, x = service, y = \"Churn\")\n",
    "    print(stats)"
   ]
  },
  {
   "cell_type": "markdown",
   "id": "03e5b931-d252-4da6-997a-074ad77dcdf0",
   "metadata": {},
   "source": [
    "#### Logistic Regression: Quantifying Service Impact on Churn\n",
    "\n",
    "**Objective:** Measure how each value-added service affects churn probability while controlling for base predictors (monthly charges, tenure, age, and contract type).\n",
    "\n",
    "**Model Specifications:**\n",
    "- **Dependent Variable**: `Churn`\n",
    "- **Base Control Variables**:\n",
    "  - Monthly Costs (`MonthlyCharges`)\n",
    "  - Duration of Customer (`tenure`)\n",
    "  - Age (`SeniorCitizen`)\n",
    "  - Type of Contract (`Contract`)\n",
    "- **Tested Service Variables**:\n",
    "  - Tech Support\n",
    "  - Online Security  \n",
    "  - Online Backup\n",
    "  - Device Protection\n",
    "\n",
    "**Analytical Approach:** Separate logistic models for each service to isolate individual effects while maintaining consistent controls.\n",
    "\n",
    "**Results**:  All coefficients are negative, these services are associated with lower churn probabilities, even after adjusting for pricing, contract type, and customer profile\n",
    "- While we cannot infer causality, the consistency across models suggests that customers who opt into additional services – especially Tech Support and Online Security – may have stronger engagement or switching barriers, lowering their churn likelihood.\n",
    "- These services could therefore serve as potential retention levers, especially if bundled strategically or promoted to at-risk customers."
   ]
  },
  {
   "cell_type": "code",
   "execution_count": null,
   "id": "eccbfa2a-7a03-4c68-b661-7e39ef23995f",
   "metadata": {},
   "outputs": [],
   "source": [
    "base_predictors = \"MonthlyCharges + tenure + SeniorCitizen + Contract\"\n",
    "\n",
    "for service in services:\n",
    "    # Build the formula dynamically\n",
    "    formula = f\"Churn ~ {base_predictors} + {service}\"\n",
    "    model = logit(formula, data=df_telco).fit()\n",
    "    print(model.summary())"
   ]
  }
 ],
 "metadata": {
  "kernelspec": {
   "display_name": "Python 3 (ipykernel)",
   "language": "python",
   "name": "python3"
  },
  "language_info": {
   "codemirror_mode": {
    "name": "ipython",
    "version": 3
   },
   "file_extension": ".py",
   "mimetype": "text/x-python",
   "name": "python",
   "nbconvert_exporter": "python",
   "pygments_lexer": "ipython3",
   "version": "3.12.3"
  }
 },
 "nbformat": 4,
 "nbformat_minor": 5
}
